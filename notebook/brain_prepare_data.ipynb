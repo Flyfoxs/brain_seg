{
 "cells": [
  {
   "cell_type": "code",
   "execution_count": 1,
   "metadata": {},
   "outputs": [
    {
     "name": "stderr",
     "output_type": "stream",
     "text": [
      "2020-05-26 15:56:25,176 util_log.py[153] INFO Start the program at:amax7, 127.0.1.1, with:Load module\n"
     ]
    },
    {
     "name": "stdout",
     "output_type": "stream",
     "text": [
      "File_cache: Adjust notebook work fold to:/share/felix/pj/brain_seg/\n"
     ]
    }
   ],
   "source": [
    "import os\n",
    "os.environ[\"CUDA_VISIBLE_DEVICES\"]=\"2\"\n",
    "from file_cache import *\n",
    " \n",
    " "
   ]
  },
  {
   "cell_type": "code",
   "execution_count": 27,
   "metadata": {},
   "outputs": [
    {
     "name": "stdout",
     "output_type": "stream",
     "text": [
      "======== train\n",
      "False    811\n",
      "True     202\n",
      "Name: valid, dtype: int64\n"
     ]
    },
    {
     "data": {
      "application/vnd.jupyter.widget-view+json": {
       "model_id": "0ed049de38e741f49600c4111cd79fbd",
       "version_major": 2,
       "version_minor": 0
      },
      "text/plain": [
       "HBox(children=(FloatProgress(value=0.0, max=811.0), HTML(value='')))"
      ]
     },
     "metadata": {},
     "output_type": "display_data"
    },
    {
     "name": "stdout",
     "output_type": "stream",
     "text": [
      "\n"
     ]
    }
   ],
   "source": [
    "from torchvision import transforms\n",
    "from torchvision import transforms as TF\n",
    " \n",
    "from torch import *\n",
    "import torch.nn as nn\n",
    "import torch.nn.functional as F\n",
    "from torch.utils.data import Dataset, DataLoader\n",
    "\n",
    "class DataSet_brain(Dataset):\n",
    "\n",
    "    def __init__(self, ds_type='train'):\n",
    "        self.image_size = 256\n",
    "        self.ds_type = ds_type\n",
    "        \n",
    "        df = self.get_df()\n",
    "\n",
    "        if ds_type == 'train':\n",
    "            print('========', ds_type)\n",
    "            print(df.valid.value_counts())\n",
    "            self.df = df.loc[df.valid == False]\n",
    "        elif ds_type == 'valid':\n",
    "            self.df = df.loc[df.valid == True]\n",
    "\n",
    "#         self.transforms = transforms.Compose([transforms.ToTensor(),\n",
    "#                       transforms.Normalize((0.5, 0.5, 0.5), (0.5, 0.5, 0.5)),\n",
    "#                       transforms.Resize(224)\n",
    "#                      ])\n",
    "\n",
    "    def transform(self, image, mask):\n",
    "        #print(image.shape, mask.shape)\n",
    "        # Resize\n",
    "        resize_img = transforms.Compose([transforms.ToTensor(),\n",
    "                                         transforms.Lambda(lambda x: x.repeat(3, 1, 1) ),\n",
    "                                         transforms.ToPILImage(),\n",
    "                                         transforms.Resize((224,224)),\n",
    "                                         transforms.ToTensor(),\n",
    "                                    ])\n",
    "        \n",
    "        resize_label = transforms.Compose([transforms.ToPILImage(),\n",
    "                                 transforms.Resize((224,224)),\n",
    "                                 \n",
    "                            ])\n",
    "        image = resize_img(image)\n",
    "        mask = resize_label(mask)\n",
    "        mask = np.array(mask).astype(int)\n",
    "\n",
    "        return np.array(image), np.where(mask>0, 1, 0)\n",
    "\n",
    "    def get_p_cnt(self, file):\n",
    "        label = nib.load(file).get_fdata()\n",
    "        label = np.where(label>0, 1, 0)\n",
    "        label = label.sum(axis=0).sum(axis=0)\n",
    "        return label\n",
    "\n",
    "    @lru_cache()\n",
    "    def get_df(self):\n",
    "        root = '/share/data2/body/brain/NPH_PROCESSED'\n",
    "        file_list = glob(f'{root}/iNPH_MRI_PROCESSED/*/*.nii.gz')\n",
    "        df_list = []\n",
    "        file_list = [file for file in file_list if ' ' not in os.path.basename(file)]\n",
    "        #print(len(file_list))\n",
    "        for file in file_list:\n",
    "            label_cnt = self.get_p_cnt(file)\n",
    "            # print(os.path.dirname(file))\n",
    "            fold = [fold for fold in glob(f'{os.path.dirname(file)}/*') if os.path.isdir(fold)][0]\n",
    "            for dcm_file in glob(f'{fold}/*'): \n",
    "                slice_sn = int(dcm_file.split('_')[-1].split('.')[0])-1\n",
    "                df_list.append({'input_path' :  dcm_file, \n",
    "                                'label_path' : file, \n",
    "                                'slice_sn' : slice_sn,\n",
    "                                'p_cnt' : label_cnt[slice_sn],\n",
    "                               })\n",
    "            # print(glob(f'{file}/*_Processed.nii.gz')[0])\n",
    "        df = pd.DataFrame(df_list)\n",
    "        df = df.sample(frac=1, random_state=2020)\n",
    "        df['p_id'] = df.label_path.rank()\n",
    "        df['valid'] = df.input_path.rank() <= len(df)/5\n",
    "        #df = df.loc[df.p_cnt>0] \n",
    "        return df\n",
    "\n",
    "    def __getitem__(self, index):\n",
    "        img_path = self.df.input_path.iloc[index]\n",
    "        #print(img)\n",
    "        img = pydicom.dcmread(img_path, force=True).pixel_array.astype(np.int32)\n",
    "        img = (img-img.min())/(img.max()-img.min())\n",
    "        \n",
    "        slice_sn = self.df.slice_sn.iloc[index] \n",
    "        assert slice_sn >= 0, f'Slice_sn:{slice_sn}'\n",
    "        p_cnt = self.df.p_cnt.iloc[index]\n",
    "        #print(slice_sn)\n",
    "   \n",
    "        label = self.df.label_path.iloc[index]\n",
    "        #print(label)\n",
    "        label = nib.load(label).get_fdata()\n",
    "        label = label[:,:,slice_sn].T\n",
    "        \n",
    "        label_path = img_path.replace('/NPH_PROCESSED/', '/train/label/')\n",
    "        img_path = img_path.replace('/NPH_PROCESSED/', '/train/image/')\n",
    "        \n",
    "        os.makedirs(os.path.dirname(label_path), exist_ok=True)\n",
    "        os.makedirs(os.path.dirname(img_path), exist_ok=True)\n",
    "        \n",
    "        #print(img_path)\n",
    "        cv2.imwrite(f'{img_path}_{slice_sn:02}_{p_cnt:05}.png', img*255)\n",
    "        cv2.imwrite(f'{label_path}_{slice_sn:02}_{p_cnt:05}.png', label)\n",
    "        #print(img.dtype, label.dtype)\n",
    "        #return img, label\n",
    "        return  img.astype(np.float32), label.astype(np.uint8)  \n",
    "        #return self.transform(img.astype(np.float32), label.astype(np.uint8)) \n",
    "\n",
    "    def __len__(self):\n",
    "        return len(self.df)\n",
    "\n",
    "ds = DataSet_brain()\n",
    "for sn, (a, b) in tqdm(enumerate(ds), total=len(ds)):\n",
    "    pass"
   ]
  },
  {
   "cell_type": "code",
   "execution_count": null,
   "metadata": {},
   "outputs": [],
   "source": []
  }
 ],
 "metadata": {
  "kernelspec": {
   "display_name": "Python 3",
   "language": "python",
   "name": "python3"
  },
  "language_info": {
   "codemirror_mode": {
    "name": "ipython",
    "version": 3
   },
   "file_extension": ".py",
   "mimetype": "text/x-python",
   "name": "python",
   "nbconvert_exporter": "python",
   "pygments_lexer": "ipython3",
   "version": "3.7.4"
  }
 },
 "nbformat": 4,
 "nbformat_minor": 2
}
