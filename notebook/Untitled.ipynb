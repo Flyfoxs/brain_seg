{
 "cells": [
  {
   "cell_type": "code",
   "execution_count": 53,
   "metadata": {},
   "outputs": [],
   "source": [
    "from fastai.vision import SegmentationItemList\n",
    "from torch.utils.data import Dataset, DataLoader\n",
    "from torchvision import transforms\n",
    "from file_cache import *\n",
    "from fastai.vision import imagenet_stats\n",
    "\n",
    "\n",
    "file1 = '/share/data2/body/brain/train/image/iNPH_MRI_PROCESSED/MRMR00093558-Yang JunSheng/3/MRMR00093558-Yang JunSheng_3.DCM_02_00000.png'\n",
    "file2 = '/share/data2/body/brain/train/image/iNPH_MRI_PROCESSED/MRMR00010496-Ma ZhongYi/2/MRMR00010496-Ma ZhongYi_16.DCM_15_00000.png'\n",
    "file3 = '/share/data2/body/brain/train/image/iNPH_MRI_PROCESSED/MRMR00075351-Zhang SiRu/4/MRMR00075351-Zhang SiRu_9.DCM_08_03524.png'\n",
    "file4 = '/share/data2/body/brain/train/image/iNPH_MRI_PROCESSED/MRMR00093558-Yang JunSheng/3/MRMR00093558-Yang JunSheng_10.DCM_09_02900.png'\n",
    "@lru_cache()\n",
    "def get_df():\n",
    "    img_file_list = glob('/share/data2/body/brain/train/image/*MRI*/**/*.*', recursive=True)\n",
    "\n",
    "    df = pd.DataFrame({'img_file': [file4]*100})\n",
    "    df['p_id_path'] = df.img_file.apply(lambda val: os.path.dirname(val))\n",
    "    df['p_id'] = df['p_id_path'].rank(method='max').astype(int)\n",
    "    df.sort_values('p_id')\n",
    "\n",
    "    df['label_path'] = df.img_file.apply(lambda val: val.replace('image', 'label'))\n",
    "\n",
    "    df['valid'] = df.p_id % 5 == 1\n",
    "    \n",
    "    \n",
    "\n",
    "    df.valid.value_counts()\n",
    "    return df\n",
    "\n"
   ]
  },
  {
   "cell_type": "code",
   "execution_count": 16,
   "metadata": {},
   "outputs": [
    {
     "data": {
      "text/plain": [
       "({'layer': 'p3',\n",
       "  'stride': 32,\n",
       "  'size': 48,\n",
       "  'scale': [1.2599210498948732, 1.5874010519681994],\n",
       "  'aspect_ratio': [0.667, 1, 1.5]},\n",
       " {'layer': 'p4',\n",
       "  'stride': 64,\n",
       "  'size': 96,\n",
       "  'scale': [1.2599210498948732, 1.5874010519681994],\n",
       "  'aspect_ratio': [0.667, 1, 1.5]},\n",
       " {'layer': 'p5',\n",
       "  'stride': 128,\n",
       "  'size': 192,\n",
       "  'scale': [1, 1.2599210498948732, 1.5874010519681994],\n",
       "  'aspect_ratio': [0.667, 1, 1.5]})"
      ]
     },
     "execution_count": 16,
     "metadata": {},
     "output_type": "execute_result"
    }
   ],
   "source": [
    "_default_anchors_setting = (\n",
    "    dict(layer='p3', stride=32, size=48, scale=[2 ** (1. / 3.), 2 ** (2. / 3.)], aspect_ratio=[0.667, 1, 1.5]),\n",
    "    dict(layer='p4', stride=64, size=96, scale=[2 ** (1. / 3.), 2 ** (2. / 3.)], aspect_ratio=[0.667, 1, 1.5]),\n",
    "    dict(layer='p5', stride=128, size=192, scale=[1, 2 ** (1. / 3.), 2 ** (2. / 3.)], aspect_ratio=[0.667, 1, 1.5]),\n",
    ")\n",
    "_default_anchors_setting"
   ]
  },
  {
   "cell_type": "code",
   "execution_count": 13,
   "metadata": {},
   "outputs": [
    {
     "data": {
      "text/plain": [
       "array([], shape=(0, 4), dtype=float32)"
      ]
     },
     "execution_count": 13,
     "metadata": {},
     "output_type": "execute_result"
    }
   ],
   "source": [
    "np.zeros((0, 4), dtype=np.float32)"
   ]
  },
  {
   "cell_type": "code",
   "execution_count": 9,
   "metadata": {},
   "outputs": [
    {
     "data": {
      "text/plain": [
       "['/share/data2/body/brain/NPH_PROCESSED/sNPH_MRI_PROCESSED/MRMR00143102-HUANGQINGHUA/MRMR00143102-HUANGQINGHUA_1.DCM',\n",
       " '/share/data2/body/brain/NPH_PROCESSED/sNPH_MRI_PROCESSED/MRMR00143102-HUANGQINGHUA/MRMR00143102-HUANGQINGHUA_2.DCM',\n",
       " '/share/data2/body/brain/NPH_PROCESSED/sNPH_MRI_PROCESSED/MRMR00143102-HUANGQINGHUA/MRMR00143102-HUANGQINGHUA_3.DCM',\n",
       " '/share/data2/body/brain/NPH_PROCESSED/sNPH_MRI_PROCESSED/MRMR00143102-HUANGQINGHUA/MRMR00143102-HUANGQINGHUA_4.DCM',\n",
       " '/share/data2/body/brain/NPH_PROCESSED/sNPH_MRI_PROCESSED/MRMR00143102-HUANGQINGHUA/MRMR00143102-HUANGQINGHUA_5.DCM',\n",
       " '/share/data2/body/brain/NPH_PROCESSED/sNPH_MRI_PROCESSED/MRMR00143102-HUANGQINGHUA/MRMR00143102-HUANGQINGHUA_6.DCM',\n",
       " '/share/data2/body/brain/NPH_PROCESSED/sNPH_MRI_PROCESSED/MRMR00143102-HUANGQINGHUA/MRMR00143102-HUANGQINGHUA_7.DCM',\n",
       " '/share/data2/body/brain/NPH_PROCESSED/sNPH_MRI_PROCESSED/MRMR00143102-HUANGQINGHUA/MRMR00143102-HUANGQINGHUA_8.DCM',\n",
       " '/share/data2/body/brain/NPH_PROCESSED/sNPH_MRI_PROCESSED/MRMR00143102-HUANGQINGHUA/MRMR00143102-HUANGQINGHUA_9.DCM',\n",
       " '/share/data2/body/brain/NPH_PROCESSED/sNPH_MRI_PROCESSED/MRMR00143102-HUANGQINGHUA/MRMR00143102-HUANGQINGHUA_10.DCM',\n",
       " '/share/data2/body/brain/NPH_PROCESSED/sNPH_MRI_PROCESSED/MRMR00143102-HUANGQINGHUA/MRMR00143102-HUANGQINGHUA_11.DCM',\n",
       " '/share/data2/body/brain/NPH_PROCESSED/sNPH_MRI_PROCESSED/MRMR00143102-HUANGQINGHUA/MRMR00143102-HUANGQINGHUA_12.DCM',\n",
       " '/share/data2/body/brain/NPH_PROCESSED/sNPH_MRI_PROCESSED/MRMR00143102-HUANGQINGHUA/MRMR00143102-HUANGQINGHUA_13.DCM',\n",
       " '/share/data2/body/brain/NPH_PROCESSED/sNPH_MRI_PROCESSED/MRMR00143102-HUANGQINGHUA/MRMR00143102-HUANGQINGHUA_14.DCM',\n",
       " '/share/data2/body/brain/NPH_PROCESSED/sNPH_MRI_PROCESSED/MRMR00143102-HUANGQINGHUA/MRMR00143102-HUANGQINGHUA_15.DCM',\n",
       " '/share/data2/body/brain/NPH_PROCESSED/sNPH_MRI_PROCESSED/MRMR00143102-HUANGQINGHUA/MRMR00143102-HUANGQINGHUA_16.DCM',\n",
       " '/share/data2/body/brain/NPH_PROCESSED/sNPH_MRI_PROCESSED/MRMR00143102-HUANGQINGHUA/MRMR00143102-HUANGQINGHUA_17.DCM',\n",
       " '/share/data2/body/brain/NPH_PROCESSED/sNPH_MRI_PROCESSED/MRMR00143102-HUANGQINGHUA/MRMR00143102-HUANGQINGHUA_18.DCM',\n",
       " '/share/data2/body/brain/NPH_PROCESSED/sNPH_MRI_PROCESSED/MRMR00143102-HUANGQINGHUA/MRMR00143102-HUANGQINGHUA_19.DCM',\n",
       " '/share/data2/body/brain/NPH_PROCESSED/sNPH_MRI_PROCESSED/MRMR00143102-HUANGQINGHUA/MRMR00143102-HUANGQINGHUA_20.DCM']"
      ]
     },
     "execution_count": 9,
     "metadata": {},
     "output_type": "execute_result"
    }
   ],
   "source": [
    "from file_cache import *\n",
    "file1='/share/data2/body/brain/NPH_PROCESSED/sNPH_MRI_PROCESSED/MRMR00090067-Zhang JiLan'\n",
    "file2='/share/data2/body/brain/NPH_PROCESSED/sNPH_MRI_PROCESSED/MRMR00143102-HUANGQINGHUA'\n",
    "sorted(glob(f'{file2}/**/**.DCM', recursive=True), \n",
    "       key=lambda val: int(val.split('_')[-1].split('.')[0])\n",
    "      )\n"
   ]
  },
  {
   "cell_type": "code",
   "execution_count": null,
   "metadata": {},
   "outputs": [],
   "source": [
    "\"\"\"['/share/data2/body/brain/NPH_PROCESSED/sNPH_MRI_PROCESSED/MRMR00090067-Zhang JiLan/4/MRMR00090067-Zhang JiLan_12.DCM',\"\"\"\n"
   ]
  },
  {
   "cell_type": "code",
   "execution_count": 54,
   "metadata": {
    "scrolled": false
   },
   "outputs": [
    {
     "name": "stdout",
     "output_type": "stream",
     "text": [
      "100 1\n",
      "None\n",
      "<class 'fastai.basic_data.DeviceDataLoader'> []\n",
      "==============================\n",
      "None\n",
      "<class 'fastai.basic_data.DeviceDataLoader'> [functools.partial(<function _normalize_batch at 0x7f86551f30e0>, mean=tensor([0.4850, 0.4560, 0.4060]), std=tensor([0.2290, 0.2240, 0.2250]), do_x=True, do_y=False)]\n"
     ]
    }
   ],
   "source": [
    "#ipdb.set_trace()\n",
    "df = get_df()\n",
    "src = (SegmentationItemList.from_df(df, path='/', cols='img_file')\n",
    "       .split_from_df(col='valid')\n",
    "       # .label_from_func(get_y_fn, classes=codes)\n",
    "       .label_from_df(cols='label_path', classes=range(5))\n",
    "       )\n",
    "# .label_from_func(cols='label_path', classes=codes))\n",
    "\n",
    "print(len(src.train), len(src.valid))\n",
    "import ipdb\n",
    "#\n",
    "data = (src.transform(None, size=224 , tfm_y=True)\n",
    "        .databunch(bs=8)\n",
    "        \n",
    "        )\n",
    "\n",
    "#\n",
    "print(data.train_dl.dl.worker_init_fn)\n",
    "print(type(data.train_dl),data.train_dl.tfms)\n",
    "print('==='*10)\n",
    "data = data.normalize(imagenet_stats)\n",
    "#print(type(data)) \n",
    "print(data.train_dl.dl.worker_init_fn)\n",
    "print(type(data.train_dl),data.train_dl.tfms)"
   ]
  },
  {
   "cell_type": "code",
   "execution_count": 57,
   "metadata": {
    "scrolled": false
   },
   "outputs": [
    {
     "name": "stdout",
     "output_type": "stream",
     "text": [
      "99 1\n",
      "<class 'fastai.data_block.LabelLists'>\n",
      "<class 'fastai.data_block.LabelLists'>\n",
      "<class 'fastai.data_block.LabelList'>\n",
      "torch.Size([3, 224, 224]) torch.Size([1, 224, 224]) tensor(21559.0781) tensor(3218) [0 1 2 3]\n"
     ]
    }
   ],
   "source": [
    "#ipdb.set_trace()\n",
    "df = get_df()\n",
    "df = df.iloc[1:]\n",
    "src = (SegmentationItemList.from_df(df, path='/', cols='img_file')\n",
    "       .split_from_df(col='valid')\n",
    "       # .label_from_func(get_y_fn, classes=codes)\n",
    "       .label_from_df(cols='label_path', classes=range(5))\n",
    "       )\n",
    "# .label_from_func(cols='label_path', classes=codes))\n",
    "\n",
    "print(len(src.train), len(src.valid))\n",
    "#import ipdb\n",
    "#\n",
    "print(type(src))\n",
    "#ipdb.set_trace()\n",
    "data = (src.transform(None, size=224 , tfm_y=True)  )\n",
    "#ipdb.set_trace()\n",
    "print(type(data))\n",
    "data = data.databunch(bs=8)\n",
    "\n",
    "print(type(data.train_ds))\n",
    "for a, b in data.train_ds:\n",
    "    print(a.shape, b.shape, a.data.sum(), b.data.sum(), np.unique(b.data))\n",
    "    break"
   ]
  },
  {
   "cell_type": "code",
   "execution_count": 36,
   "metadata": {},
   "outputs": [
    {
     "data": {
      "text/plain": [
       "[]"
      ]
     },
     "execution_count": 36,
     "metadata": {},
     "output_type": "execute_result"
    }
   ],
   "source": [
    "b fastai/data_block.py:516\n",
    "b fastai/data_block.py:505\n",
    "    \n",
    "b fastai/data_block.py:726\n",
    "    "
   ]
  },
  {
   "cell_type": "code",
   "execution_count": null,
   "metadata": {},
   "outputs": [],
   "source": [
    "batch_sampler',\n",
    " 'batch_size',\n",
    " 'collate_fn',\n",
    " 'dataset',\n",
    " 'drop_last',\n",
    " 'init_kwargs',\n",
    " 'multiprocessing_context',\n",
    " 'num_workers',\n",
    " 'pin_memory',\n",
    " 'sampler',\n",
    " 'timeout',\n",
    " 'worker_init_fn'"
   ]
  },
  {
   "cell_type": "code",
   "execution_count": 6,
   "metadata": {},
   "outputs": [
    {
     "data": {
      "text/plain": [
       "['_DataLoader__initialized',\n",
       " '_DataLoader__multiprocessing_context',\n",
       " '_IterableDataset_len_called',\n",
       " '__class__',\n",
       " '__delattr__',\n",
       " '__dict__',\n",
       " '__dir__',\n",
       " '__doc__',\n",
       " '__eq__',\n",
       " '__format__',\n",
       " '__ge__',\n",
       " '__getattr__',\n",
       " '__getattribute__',\n",
       " '__gt__',\n",
       " '__hash__',\n",
       " '__init__',\n",
       " '__init_subclass__',\n",
       " '__iter__',\n",
       " '__le__',\n",
       " '__len__',\n",
       " '__lt__',\n",
       " '__module__',\n",
       " '__ne__',\n",
       " '__new__',\n",
       " '__reduce__',\n",
       " '__reduce_ex__',\n",
       " '__repr__',\n",
       " '__setattr__',\n",
       " '__setstate__',\n",
       " '__sizeof__',\n",
       " '__str__',\n",
       " '__subclasshook__',\n",
       " '__weakref__',\n",
       " '_auto_collation',\n",
       " '_dataset_kind',\n",
       " '_index_sampler',\n",
       " 'batch_sampler',\n",
       " 'batch_size',\n",
       " 'collate_fn',\n",
       " 'dataset',\n",
       " 'drop_last',\n",
       " 'init_kwargs',\n",
       " 'multiprocessing_context',\n",
       " 'num_workers',\n",
       " 'pin_memory',\n",
       " 'sampler',\n",
       " 'timeout',\n",
       " 'worker_init_fn']"
      ]
     },
     "execution_count": 6,
     "metadata": {},
     "output_type": "execute_result"
    }
   ],
   "source": [
    "dir(data.train_dl.dl)"
   ]
  },
  {
   "cell_type": "code",
   "execution_count": null,
   "metadata": {},
   "outputs": [],
   "source": [
    "b fastai/basic_data.py:117\n",
    "b fastai/basic_data.py:47\n",
    "b fastai/basic_data.py:64\n",
    "b fastai/basic_data.py:81\n",
    "b fastai/basic_data.py:46\n",
    "\n",
    "b fastai/data_block.py:582\n",
    " \n",
    "b fastai/vision/data.py:175\n",
    "b fastai/vision/data.py:66\n",
    "b fastai/vision/data.py:95\n",
    "b fastai/torch_core.py:127"
   ]
  },
  {
   "cell_type": "code",
   "execution_count": 25,
   "metadata": {},
   "outputs": [
    {
     "name": "stdout",
     "output_type": "stream",
     "text": [
      "DataSet_brain {'self': <dataset.ds_brain.DataSet_brain object at 0x7f34b794e190>, 'ds_type': 'train', 'imgaug': True}\n",
      "======== train\n",
      "False    836\n",
      "True     177\n",
      "Name: valid, dtype: int64\n",
      "> \u001b[0;32m/home/aladdin1/anaconda3/lib/python3.7/site-packages/fastai/basic_data.py\u001b[0m(16)\u001b[0;36mintercept_args\u001b[0;34m()\u001b[0m\n",
      "\u001b[0;32m     15 \u001b[0;31m                        'drop_last': drop_last, 'timeout':timeout, 'worker_init_fn':worker_init_fn}\n",
      "\u001b[0m\u001b[1;31m1\u001b[0;32m--> 16 \u001b[0;31m    \u001b[0mold_dl_init\u001b[0m\u001b[0;34m(\u001b[0m\u001b[0mself\u001b[0m\u001b[0;34m,\u001b[0m \u001b[0mdataset\u001b[0m\u001b[0;34m,\u001b[0m \u001b[0;34m**\u001b[0m\u001b[0mself\u001b[0m\u001b[0;34m.\u001b[0m\u001b[0minit_kwargs\u001b[0m\u001b[0;34m)\u001b[0m\u001b[0;34m\u001b[0m\u001b[0;34m\u001b[0m\u001b[0m\n",
      "\u001b[0m\u001b[0;32m     17 \u001b[0;31m\u001b[0;34m\u001b[0m\u001b[0m\n",
      "\u001b[0m\n",
      "ipdb> c\n"
     ]
    },
    {
     "data": {
      "text/plain": [
       "<torch.utils.data.dataloader.DataLoader at 0x7f34b794e110>"
      ]
     },
     "execution_count": 25,
     "metadata": {},
     "output_type": "execute_result"
    }
   ],
   "source": [
    "from fastai.basic_data import *\n",
    "\n",
    "from dataset.ds_brain import *\n",
    "# DataBunch().create(, DataSet_brain('valid'), DataSet_brain('valid'))\n",
    "\n",
    "DataLoader(DataSet_brain('train'), 8, True, num_workers=8)"
   ]
  },
  {
   "cell_type": "code",
   "execution_count": 10,
   "metadata": {},
   "outputs": [
    {
     "name": "stdout",
     "output_type": "stream",
     "text": [
      "Looking in indexes: https://pypi.tuna.tsinghua.edu.cn/simple\n",
      "\u001b[31mERROR: Could not find a version that satisfies the requirement inspect (from versions: none)\u001b[0m\n",
      "\u001b[31mERROR: No matching distribution found for inspect\u001b[0m\n",
      "\u001b[33mWARNING: You are using pip version 20.0.2; however, version 20.1.1 is available.\n",
      "You should consider upgrading via the '/home/aladdin1/anaconda3/bin/python -m pip install --upgrade pip' command.\u001b[0m\n"
     ]
    }
   ],
   "source": [
    "!pip install inspect --user\n"
   ]
  },
  {
   "cell_type": "code",
   "execution_count": 5,
   "metadata": {},
   "outputs": [
    {
     "data": {
      "text/plain": [
       "<torch.utils.data.dataloader.DataLoader at 0x7f0991a25cd0>"
      ]
     },
     "execution_count": 5,
     "metadata": {},
     "output_type": "execute_result"
    }
   ],
   "source": [
    "data.train_dl.dl"
   ]
  },
  {
   "cell_type": "code",
   "execution_count": 7,
   "metadata": {},
   "outputs": [
    {
     "name": "stdout",
     "output_type": "stream",
     "text": [
      "--Call--\n",
      "> \u001b[0;32m/home/aladdin1/anaconda3/lib/python3.7/site-packages/IPython/core/displayhook.py\u001b[0m(252)\u001b[0;36m__call__\u001b[0;34m()\u001b[0m\n",
      "\u001b[0;32m    251 \u001b[0;31m\u001b[0;34m\u001b[0m\u001b[0m\n",
      "\u001b[0m\u001b[0;32m--> 252 \u001b[0;31m    \u001b[0;32mdef\u001b[0m \u001b[0m__call__\u001b[0m\u001b[0;34m(\u001b[0m\u001b[0mself\u001b[0m\u001b[0;34m,\u001b[0m \u001b[0mresult\u001b[0m\u001b[0;34m=\u001b[0m\u001b[0;32mNone\u001b[0m\u001b[0;34m)\u001b[0m\u001b[0;34m:\u001b[0m\u001b[0;34m\u001b[0m\u001b[0;34m\u001b[0m\u001b[0m\n",
      "\u001b[0m\u001b[0;32m    253 \u001b[0;31m        \"\"\"Printing with history cache management.\n",
      "\u001b[0m\n",
      "ipdb> c\n"
     ]
    }
   ],
   "source": [
    "import ipdb\n",
    "ipdb.set_trace()\n"
   ]
  }
 ],
 "metadata": {
  "kernelspec": {
   "display_name": "Python 3",
   "language": "python",
   "name": "python3"
  },
  "language_info": {
   "codemirror_mode": {
    "name": "ipython",
    "version": 3
   },
   "file_extension": ".py",
   "mimetype": "text/x-python",
   "name": "python",
   "nbconvert_exporter": "python",
   "pygments_lexer": "ipython3",
   "version": "3.7.4"
  }
 },
 "nbformat": 4,
 "nbformat_minor": 2
}
