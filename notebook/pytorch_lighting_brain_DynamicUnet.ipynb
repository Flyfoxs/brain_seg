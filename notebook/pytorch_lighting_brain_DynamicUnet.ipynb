{
 "cells": [
  {
   "cell_type": "code",
   "execution_count": 1,
   "metadata": {},
   "outputs": [
    {
     "name": "stderr",
     "output_type": "stream",
     "text": [
      "2020-05-22 23:58:04,414 util_log.py[153] INFO Start the program at:amax7, 127.0.1.1, with:Load module\n"
     ]
    },
    {
     "name": "stdout",
     "output_type": "stream",
     "text": [
      "File_cache: Adjust notebook work fold to:/share/felix/pj/brain_seg/\n"
     ]
    }
   ],
   "source": [
    "import os\n",
    "os.environ[\"CUDA_VISIBLE_DEVICES\"]=\"2\"\n",
    "from file_cache import *\n",
    "from fastai.vision import *\n",
    "from fastai.callbacks.hooks import *\n",
    "\n",
    "gc.collect()\n",
    "def unet_learner( arch:Callable, pretrained:bool=False, blur_final:bool=True,\n",
    "                 norm_type:Optional[NormType]=NormType, split_on:Optional[SplitFuncOrIdxList]=None, blur:bool=False,\n",
    "                 self_attention:bool=False, y_range:Optional[Tuple[float,float]]=None, last_cross:bool=True,\n",
    "                 bottle:bool=False, cut:Union[int,Callable]=None,\n",
    "                 n_classes=2, img_size = (224,224), in_channels = 1,\n",
    "                 **learn_kwargs:Any)->Learner:\n",
    "    \"Build Unet learner from `data` and `arch`.\"\n",
    "    \"blur: do maxpolling or not\"\n",
    "    body = create_body(arch, pretrained, cut)\n",
    "    model = to_device(models.unet.DynamicUnet(body, n_classes=n_classes, img_size=img_size, blur=blur, blur_final=blur_final,\n",
    "          self_attention=self_attention, y_range=y_range, norm_type=norm_type, last_cross=last_cross,\n",
    "          bottle=bottle), 'cuda')\n",
    "    #print(model.layers[0][0])\n",
    "    #out_channels = model.layers[0][0].out_channels \n",
    "    #model.layers[0][0] = nn.Conv2d(in_channels, out_channels, kernel_size=(7, 7), stride=(2, 2), padding=(3, 3), bias=False).cuda()\n",
    "    #model.layers[0][0].in_channels = 1\n",
    "    return model\n",
    "\n",
    "#model = unet_learner( models.resnet50, n_classes=2, img_size = (224,224) )\n",
    "#model(torch.rand(10,3,224,224).cuda()).shape\n",
    "#model(torch.rand(10,3,224,224).cuda()).shape"
   ]
  },
  {
   "cell_type": "code",
   "execution_count": null,
   "metadata": {},
   "outputs": [],
   "source": []
  },
  {
   "cell_type": "code",
   "execution_count": null,
   "metadata": {},
   "outputs": [],
   "source": []
  },
  {
   "cell_type": "code",
   "execution_count": null,
   "metadata": {},
   "outputs": [],
   "source": []
  },
  {
   "cell_type": "code",
   "execution_count": 2,
   "metadata": {},
   "outputs": [
    {
     "name": "stdout",
     "output_type": "stream",
     "text": [
      "======== train\n",
      "False    442\n",
      "True     110\n",
      "Name: valid, dtype: int64\n",
      "=== <class 'numpy.ndarray'> <class 'numpy.ndarray'> (3, 224, 224) (224, 224) [0 1]\n",
      "=== <class 'numpy.ndarray'> <class 'numpy.ndarray'> (3, 224, 224) (224, 224) [0 1]\n",
      "=== <class 'numpy.ndarray'> <class 'numpy.ndarray'> (3, 224, 224) (224, 224) [0 1]\n",
      "=== <class 'numpy.ndarray'> <class 'numpy.ndarray'> (3, 224, 224) (224, 224) [0 1]\n"
     ]
    }
   ],
   "source": [
    "from torchvision import transforms\n",
    "from torchvision import transforms as TF\n",
    "class DataSet_brain(Dataset):\n",
    "\n",
    "    def __init__(self, ds_type='train'):\n",
    "        self.image_size = 256\n",
    "        self.ds_type = ds_type\n",
    "        \n",
    "        df = self.get_df()\n",
    "\n",
    "        if ds_type == 'train':\n",
    "            print('========', ds_type)\n",
    "            print(df.valid.value_counts())\n",
    "            self.df = df.loc[df.valid == False]\n",
    "        elif ds_type == 'valid':\n",
    "            self.df = df.loc[df.valid == True]\n",
    "\n",
    "#         self.transforms = transforms.Compose([transforms.ToTensor(),\n",
    "#                       transforms.Normalize((0.5, 0.5, 0.5), (0.5, 0.5, 0.5)),\n",
    "#                       transforms.Resize(224)\n",
    "#                      ])\n",
    "\n",
    "    def transform(self, image, mask):\n",
    "        #print(image.shape, mask.shape)\n",
    "        # Resize\n",
    "        resize_img = transforms.Compose([transforms.ToTensor(),\n",
    "                                         transforms.Lambda(lambda x: x.repeat(3, 1, 1) ),\n",
    "                                         transforms.ToPILImage(),\n",
    "                                         transforms.Resize((224,224)),\n",
    "                                         transforms.ToTensor(),\n",
    "                                    ])\n",
    "        \n",
    "        resize_label = transforms.Compose([transforms.ToPILImage(),\n",
    "                                 transforms.Resize((224,224)),\n",
    "                                 \n",
    "                            ])\n",
    "        image = resize_img(image)\n",
    "        mask = resize_label(mask)\n",
    "        mask = np.array(mask).astype(int)\n",
    "\n",
    "        return np.array(image), np.where(mask>0, 1, 0)\n",
    "\n",
    "    def get_p_cnt(self, file):\n",
    "        label = nib.load(file).get_fdata()\n",
    "        label = np.where(label>0, 1, 0)\n",
    "        label = label.sum(axis=0).sum(axis=0)\n",
    "        return label\n",
    "\n",
    "    @lru_cache()\n",
    "    def get_df(self):\n",
    "        root = '/share/data2/body/brain/NPH_PROCESSED'\n",
    "        file_list = glob(f'{root}/iNPH_MRI_PROCESSED/*/*.nii.gz')\n",
    "        df_list = []\n",
    "        file_list = [file for file in file_list if ' ' not in os.path.basename(file)]\n",
    "        #print(len(file_list))\n",
    "        for file in file_list:\n",
    "            label_cnt = self.get_p_cnt(file)\n",
    "            # print(os.path.dirname(file))\n",
    "            fold = [fold for fold in glob(f'{os.path.dirname(file)}/*') if os.path.isdir(fold)][0]\n",
    "            for dcm_file in glob(f'{fold}/*'): \n",
    "                slice_sn = int(dcm_file.split('_')[-1].split('.')[0])-1\n",
    "                df_list.append({'input_path' :  dcm_file, \n",
    "                                'label_path' : file, \n",
    "                                'slice_sn' : slice_sn,\n",
    "                                'p_cnt' : label_cnt[slice_sn],\n",
    "                               })\n",
    "            # print(glob(f'{file}/*_Processed.nii.gz')[0])\n",
    "        df = pd.DataFrame(df_list)\n",
    "        df = df.sample(frac=1, random_state=2020)\n",
    "        df['p_id'] = df.label_path.rank()\n",
    "        df['valid'] = df.input_path.rank() <= len(df)/5\n",
    "        df = df.loc[df.p_cnt>0] \n",
    "        return df\n",
    "\n",
    "    def __getitem__(self, index):\n",
    "        img = self.df.input_path.iloc[index]\n",
    "        #print(img)\n",
    "        img = pydicom.dcmread(img, force=True).pixel_array.astype(np.int32)\n",
    "        img = (img-img.min())/(img.max()-img.min())\n",
    "        \n",
    "        slice_sn = self.df.slice_sn.iloc[index]-1\n",
    "        #print(slice_sn)\n",
    "   \n",
    "        label = self.df.label_path.iloc[index]\n",
    "        #print(label)\n",
    "        label = nib.load(label).get_fdata()\n",
    "        label = label[:,:,slice_sn].T\n",
    "        \n",
    "        #print(img.dtype, label.dtype)\n",
    "        #return img, label\n",
    "        return self.transform(img.astype(np.float32), label.astype(np.uint8)) \n",
    "\n",
    "    def __len__(self):\n",
    "        return len(self.df)\n",
    "\n",
    "    \n",
    "for sn, (a, b) in enumerate(DataSet_brain()):\n",
    "    print('===',type(a), type(b), a.shape, b.shape, np.unique(b))\n",
    "    if sn> 2: break\n",
    "    \n",
    "\n",
    "# df = DataSet_brain().get_df()#.shape\n",
    "# df.sort_values('label_path').shape\n"
   ]
  },
  {
   "cell_type": "code",
   "execution_count": 3,
   "metadata": {},
   "outputs": [
    {
     "data": {
      "text/plain": [
       "<matplotlib.image.AxesImage at 0x7fe17c4a0810>"
      ]
     },
     "execution_count": 3,
     "metadata": {},
     "output_type": "execute_result"
    },
    {
     "data": {
      "image/png": "[encoded data removed]",
      "text/plain": [
       "<Figure size 432x288 with 1 Axes>"
      ]
     },
     "metadata": {
      "needs_background": "light"
     },
     "output_type": "display_data"
    }
   ],
   "source": [
    "plt.imshow(a[0])"
   ]
  },
  {
   "cell_type": "code",
   "execution_count": 4,
   "metadata": {},
   "outputs": [
    {
     "data": {
      "image/png": "[encoded data removed]",
      "text/plain": [
       "<Figure size 432x288 with 1 Axes>"
      ]
     },
     "metadata": {
      "needs_background": "light"
     },
     "output_type": "display_data"
    }
   ],
   "source": [
    "plt.hist(np.array(a).flatten(), bins=100)\n",
    "plt.show()"
   ]
  },
  {
   "cell_type": "code",
   "execution_count": 5,
   "metadata": {},
   "outputs": [
    {
     "data": {
      "text/plain": [
       "(array([0, 1]), array([46303,  3873]))"
      ]
     },
     "execution_count": 5,
     "metadata": {},
     "output_type": "execute_result"
    },
    {
     "data": {
      "image/png": "[encoded data removed]",
      "text/plain": [
       "<Figure size 432x288 with 1 Axes>"
      ]
     },
     "metadata": {
      "needs_background": "light"
     },
     "output_type": "display_data"
    }
   ],
   "source": [
    "plt.imshow(b*40)\n",
    "np.unique(b, return_counts=True)"
   ]
  },
  {
   "cell_type": "code",
   "execution_count": 6,
   "metadata": {},
   "outputs": [
    {
     "name": "stdout",
     "output_type": "stream",
     "text": [
      "{'0': 0.2008, '1': 0.1959}\n"
     ]
    },
    {
     "data": {
      "text/plain": [
       "0.19835"
      ]
     },
     "execution_count": 6,
     "metadata": {},
     "output_type": "execute_result"
    }
   ],
   "source": [
    "def dice(logits, targets, class_index=None):\n",
    "    #print('======', logits.shape,  targets.shape)\n",
    "    if class_index is not None:\n",
    "        class_list = [class_index]\n",
    "    else:\n",
    "        class_list = range(2)\n",
    "    dice_list = edict()    \n",
    "    for class_index in class_list:\n",
    "        predict = torch.Tensor(np.where(a.argmax(axis=1)==class_index, 1, 0))\n",
    "        target  = torch.Tensor(np.where(targets==class_index, 1, 0))\n",
    "        \n",
    "        \n",
    "        #print('======', predict.shape,  target.shape)\n",
    "        #print(predict.shape, logits.shape, target.shape)\n",
    "        inter = torch.sum(predict * target)\n",
    "        union = torch.sum(predict) + torch.sum(target)\n",
    "        dice = (2. * inter + 1) / (union + 1)\n",
    "        #print(dice, inter, union)\n",
    "        dice_list[str(class_index)] = np.round(float(dice), 4)\n",
    "    print(dice_list)\n",
    "    return np.array(list(dice_list.values()) ).mean() #dice_list.values().mean()\n",
    "\n",
    "\n",
    "a = torch.Tensor(np.random.rand(2, 5, 224, 224))\n",
    "b = torch.Tensor(np.random.randint(0,5, (2, 224, 224)))\n",
    "\n",
    "tmp  = dice(a, b )\n",
    "tmp"
   ]
  },
  {
   "cell_type": "code",
   "execution_count": 7,
   "metadata": {},
   "outputs": [],
   "source": [
    "#model = unet_learner( models.resnet50, n_classes=5, img_size = (224,224) ) "
   ]
  },
  {
   "cell_type": "code",
   "execution_count": null,
   "metadata": {
    "scrolled": false
   },
   "outputs": [
    {
     "name": "stderr",
     "output_type": "stream",
     "text": [
      "2020-05-22 23:58:31,663 distrib_data_parallel.py[220] INFO GPU available: True, used: True\n",
      "2020-05-22 23:58:31,665 distrib_data_parallel.py[268] INFO VISIBLE GPUS: 0\n"
     ]
    },
    {
     "data": {
      "application/vnd.jupyter.widget-view+json": {
       "model_id": "",
       "version_major": 2,
       "version_minor": 0
      },
      "text/plain": [
       "HBox(children=(FloatProgress(value=0.0, description='Validation sanity check', layout=Layout(flex='2'), max=5.…"
      ]
     },
     "metadata": {},
     "output_type": "display_data"
    },
    {
     "name": "stdout",
     "output_type": "stream",
     "text": [
      "{'0': 0.3308, '1': 0.0674}\n",
      "{'0': 0.3319, '1': 0.0446}\n",
      "{'0': 0.3329, '1': 0.005}\n",
      "{'0': 0.3312, '1': 0.0578}\n",
      "{'0': 0.3325, '1': 0.0095}\n",
      "{'val_loss': tensor(11.1027, device='cuda:0'), 'dice': 0.1844}\n",
      "\r"
     ]
    },
    {
     "data": {
      "application/vnd.jupyter.widget-view+json": {
       "model_id": "80f5c5246c1746e1a50f4eff5c2ed388",
       "version_major": 2,
       "version_minor": 0
      },
      "text/plain": [
       "HBox(children=(FloatProgress(value=1.0, bar_style='info', layout=Layout(flex='2'), max=1.0), HTML(value='')), …"
      ]
     },
     "metadata": {},
     "output_type": "display_data"
    },
    {
     "name": "stdout",
     "output_type": "stream",
     "text": [
      "======== train\n",
      "False    442\n",
      "True     110\n",
      "Name: valid, dtype: int64\n"
     ]
    },
    {
     "data": {
      "application/vnd.jupyter.widget-view+json": {
       "model_id": "",
       "version_major": 2,
       "version_minor": 0
      },
      "text/plain": [
       "HBox(children=(FloatProgress(value=0.0, description='Validating', layout=Layout(flex='2'), max=55.0, style=Pro…"
      ]
     },
     "metadata": {},
     "output_type": "display_data"
    },
    {
     "name": "stdout",
     "output_type": "stream",
     "text": [
      "{'0': 0.3308, '1': 0.0674}\n",
      "{'0': 0.3319, '1': 0.0446}\n",
      "{'0': 0.3329, '1': 0.005}\n",
      "{'0': 0.3312, '1': 0.0578}\n",
      "{'0': 0.3325, '1': 0.0095}\n",
      "{'0': 0.3315, '1': 0.0563}\n",
      "{'0': 0.3325, '1': 0.0165}\n",
      "{'0': 0.3309, '1': 0.0552}\n",
      "{'0': 0.331, '1': 0.0728}\n",
      "{'0': 0.3301, '1': 0.0719}\n",
      "{'0': 0.3317, '1': 0.0421}\n",
      "{'0': 0.332, '1': 0.0208}\n",
      "{'0': 0.3318, '1': 0.0399}\n",
      "{'0': 0.3306, '1': 0.0605}\n",
      "{'0': 0.3321, '1': 0.0239}\n",
      "{'0': 0.3313, '1': 0.0521}\n",
      "{'0': 0.3305, '1': 0.0718}\n",
      "{'0': 0.3312, '1': 0.0511}\n",
      "{'0': 0.3309, '1': 0.0586}\n",
      "{'0': 0.3328, '1': 0.0107}\n",
      "{'0': 0.3312, '1': 0.0586}\n",
      "{'0': 0.3304, '1': 0.0612}\n",
      "{'0': 0.3287, '1': 0.108}\n",
      "{'0': 0.3306, '1': 0.0828}\n",
      "{'0': 0.3315, '1': 0.0423}\n",
      "{'0': 0.3327, '1': 0.0075}\n",
      "{'0': 0.333, '1': 0.002}\n",
      "{'0': 0.3321, '1': 0.0327}\n",
      "{'0': 0.3326, '1': 0.0117}\n",
      "{'0': 0.3324, '1': 0.0203}\n",
      "{'0': 0.3332, '1': 0.0033}\n",
      "{'0': 0.33, '1': 0.0799}\n",
      "{'0': 0.3281, '1': 0.1115}\n",
      "{'0': 0.3313, '1': 0.0531}\n",
      "{'0': 0.3324, '1': 0.03}\n",
      "{'0': 0.3322, '1': 0.0309}\n",
      "{'0': 0.3308, '1': 0.0502}\n",
      "{'0': 0.3313, '1': 0.0467}\n",
      "{'0': 0.3325, '1': 0.0141}\n",
      "{'0': 0.3299, '1': 0.0601}\n",
      "{'0': 0.3323, '1': 0.0254}\n",
      "{'0': 0.333, '1': 0.0013}\n",
      "{'0': 0.3329, '1': 0.0074}\n",
      "{'0': 0.3316, '1': 0.0393}\n",
      "{'0': 0.3312, '1': 0.0415}\n",
      "{'0': 0.3305, '1': 0.0767}\n",
      "{'0': 0.3304, '1': 0.0553}\n",
      "{'0': 0.3295, '1': 0.0891}\n",
      "{'0': 0.3296, '1': 0.084}\n",
      "{'0': 0.3315, '1': 0.0414}\n",
      "{'0': 0.3305, '1': 0.0706}\n",
      "{'0': 0.3318, '1': 0.0415}\n",
      "{'0': 0.331, '1': 0.0609}\n",
      "{'0': 0.3308, '1': 0.0606}\n",
      "{'0': 0.3312, '1': 0.0553}\n",
      "{'val_loss': tensor(0.1744, device='cuda:0'), 'dice': 0.1888}\n"
     ]
    },
    {
     "data": {
      "application/vnd.jupyter.widget-view+json": {
       "model_id": "",
       "version_major": 2,
       "version_minor": 0
      },
      "text/plain": [
       "HBox(children=(FloatProgress(value=0.0, description='Validating', layout=Layout(flex='2'), max=55.0, style=Pro…"
      ]
     },
     "metadata": {},
     "output_type": "display_data"
    },
    {
     "name": "stdout",
     "output_type": "stream",
     "text": [
      "{'0': 0.3308, '1': 0.0674}\n",
      "{'0': 0.3319, '1': 0.0446}\n",
      "{'0': 0.3329, '1': 0.005}\n",
      "{'0': 0.3312, '1': 0.0578}\n",
      "{'0': 0.3325, '1': 0.0095}\n",
      "{'0': 0.3315, '1': 0.0563}\n",
      "{'0': 0.3325, '1': 0.0165}\n",
      "{'0': 0.3309, '1': 0.0552}\n",
      "{'0': 0.331, '1': 0.0728}\n",
      "{'0': 0.3301, '1': 0.0719}\n",
      "{'0': 0.3317, '1': 0.0421}\n",
      "{'0': 0.332, '1': 0.0208}\n",
      "{'0': 0.3318, '1': 0.0399}\n",
      "{'0': 0.3306, '1': 0.0605}\n",
      "{'0': 0.3321, '1': 0.0239}\n",
      "{'0': 0.3313, '1': 0.0521}\n",
      "{'0': 0.3305, '1': 0.0718}\n",
      "{'0': 0.3312, '1': 0.0511}\n",
      "{'0': 0.3309, '1': 0.0586}\n",
      "{'0': 0.3328, '1': 0.0107}\n",
      "{'0': 0.3312, '1': 0.0586}\n",
      "{'0': 0.3304, '1': 0.0612}\n",
      "{'0': 0.3287, '1': 0.108}\n",
      "{'0': 0.3306, '1': 0.0828}\n",
      "{'0': 0.3315, '1': 0.0423}\n",
      "{'0': 0.3327, '1': 0.0075}\n",
      "{'0': 0.333, '1': 0.002}\n",
      "{'0': 0.3321, '1': 0.0327}\n",
      "{'0': 0.3326, '1': 0.0117}\n",
      "{'0': 0.3324, '1': 0.0203}\n",
      "{'0': 0.3332, '1': 0.0033}\n",
      "{'0': 0.33, '1': 0.0799}\n",
      "{'0': 0.3281, '1': 0.1115}\n",
      "{'0': 0.3313, '1': 0.0531}\n",
      "{'0': 0.3324, '1': 0.03}\n",
      "{'0': 0.3322, '1': 0.0309}\n",
      "{'0': 0.3308, '1': 0.0502}\n",
      "{'0': 0.3313, '1': 0.0467}\n",
      "{'0': 0.3325, '1': 0.0141}\n",
      "{'0': 0.3299, '1': 0.0601}\n",
      "{'0': 0.3323, '1': 0.0254}\n",
      "{'0': 0.333, '1': 0.0013}\n",
      "{'0': 0.3329, '1': 0.0074}\n",
      "{'0': 0.3316, '1': 0.0393}\n",
      "{'0': 0.3312, '1': 0.0415}\n",
      "{'0': 0.3305, '1': 0.0767}\n",
      "{'0': 0.3304, '1': 0.0553}\n",
      "{'0': 0.3295, '1': 0.0891}\n",
      "{'0': 0.3296, '1': 0.084}\n",
      "{'0': 0.3315, '1': 0.0414}\n",
      "{'0': 0.3305, '1': 0.0706}\n",
      "{'0': 0.3318, '1': 0.0415}\n",
      "{'0': 0.331, '1': 0.0609}\n",
      "{'0': 0.3308, '1': 0.0606}\n",
      "{'0': 0.3312, '1': 0.0553}\n",
      "{'val_loss': tensor(0.1648, device='cuda:0'), 'dice': 0.1888}\n"
     ]
    }
   ],
   "source": [
    "import os\n",
    "\n",
    "import torch\n",
    "from torch.nn import functional as F\n",
    "from torch.utils.data import DataLoader\n",
    "from torchvision.datasets import MNIST\n",
    "from torchvision import transforms\n",
    "import pytorch_lightning as pl\n",
    "\n",
    "class BrainModel(pl.LightningModule):\n",
    "\n",
    "    def __init__(self, model=None):\n",
    "        super(BrainModel, self).__init__()\n",
    "        self.unet =  unet_learner( models.resnet50, n_classes=2, img_size = (224,224) ) \n",
    "        self.weight = torch.tensor([0.5, 1]).cuda()\n",
    "\n",
    "    def forward(self, x):\n",
    "        # called with self(x)\n",
    "        #print(x.shape)\n",
    "        return self.unet(x)\n",
    "\n",
    "    def training_step(self, batch, batch_nb):\n",
    "        # REQUIRED\n",
    "        x, y = batch\n",
    "        y_hat = self(x)\n",
    "        loss = F.cross_entropy(y_hat, y)\n",
    "        \n",
    "        #print(y_hat.shape, y.shape, loss)\n",
    "        tensorboard_logs = {'train_loss': loss}\n",
    "        return {'loss': loss, 'log': tensorboard_logs}\n",
    "\n",
    "    def validation_step(self, batch, batch_nb):\n",
    "        # OPTIONAL\n",
    "        x, y = batch\n",
    "        y_hat = self(x)\n",
    "        return {'val_loss': F.cross_entropy(y_hat, y, weight=self.weight ), 'dice': dice(y_hat, y)}\n",
    "\n",
    "    def validation_epoch_end(self, outputs):\n",
    "        # OPTIONAL\n",
    "        avg_loss = torch.stack([x['val_loss'] for x in outputs]).mean()\n",
    "        import ipdb\n",
    "        #ipdb.set_trace()\n",
    "        dice = np.stack([x['dice'] for x in outputs]).mean()\n",
    "        dice = round(dice, 4)\n",
    "        tensorboard_logs = {'val_loss': avg_loss, 'dice':dice}\n",
    "        print({'val_loss': avg_loss, 'dice':dice})\n",
    "        return {'val_loss': avg_loss, 'log': tensorboard_logs}\n",
    "\n",
    "    def test_step(self, batch, batch_nb):\n",
    "        # OPTIONAL\n",
    "        print('test_step')\n",
    "        x, y = batch\n",
    "        y_hat = self(x)\n",
    "        return {'test_loss': F.cross_entropy(y_hat, y, weight=self.weight)}\n",
    "\n",
    "    def test_epoch_end(self, outputs):\n",
    "        # OPTIONAL\n",
    "        avg_loss = torch.stack([x['test_loss'] for x in outputs]).mean()\n",
    "        logs = {'test_loss': avg_loss}\n",
    "        return {'test_loss': avg_loss, 'log': logs, 'progress_bar': logs}\n",
    "\n",
    "    def configure_optimizers(self):\n",
    "        # REQUIRED\n",
    "        # can return multiple optimizers and learning_rate schedulers\n",
    "        # (LBFGS it is automatically supported, no need for closure function)\n",
    "        return torch.optim.Adam(self.parameters(), lr=0.0002)\n",
    "\n",
    "    def train_dataloader(self):\n",
    "        # REQUIRED\n",
    "        return DataLoader(DataSet_brain('train'), batch_size=2, )\n",
    "        #return DataLoader(MNIST(os.getcwd(), train=True, download=True, transform=transforms.ToTensor()), batch_size=32)\n",
    "\n",
    "    def val_dataloader(self):\n",
    "        # OPTIONAL\n",
    "        return DataLoader(DataSet_brain('valid'), batch_size=2, )\n",
    "        ##return DataLoader(MNIST(os.getcwd(), train=True, download=True, transform=transforms.ToTensor()), batch_size=32)\n",
    "\n",
    "    def test_dataloader(self):\n",
    "        # OPTIONAL\n",
    "        return DataLoader(DataSet_brain('valid'), batch_size=2,  )\n",
    "        #return DataLoader(MNIST(os.getcwd(), train=False, download=True, transform=transforms.ToTensor()), batch_size=32)\n",
    "        \n",
    "        \n",
    "brain_model = BrainModel( )\n",
    "\n",
    "# most basic trainer, uses good defaults (1 gpu)\n",
    "trainer = pl.Trainer(gpus=1,\n",
    "                     weights_summary=None)    \n",
    "trainer.fit(brain_model)  \n",
    "\n"
   ]
  },
  {
   "cell_type": "code",
   "execution_count": null,
   "metadata": {},
   "outputs": [],
   "source": []
  }
 ],
 "metadata": {
  "kernelspec": {
   "display_name": "Python 3",
   "language": "python",
   "name": "python3"
  },
  "language_info": {
   "codemirror_mode": {
    "name": "ipython",
    "version": 3
   },
   "file_extension": ".py",
   "mimetype": "text/x-python",
   "name": "python",
   "nbconvert_exporter": "python",
   "pygments_lexer": "ipython3",
   "version": "3.7.4"
  }
 },
 "nbformat": 4,
 "nbformat_minor": 2
}
